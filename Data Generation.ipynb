{
 "cells": [
  {
   "cell_type": "code",
   "execution_count": 13,
   "metadata": {},
   "outputs": [
    {
     "data": {
      "text/plain": [
       "True"
      ]
     },
     "execution_count": 13,
     "metadata": {},
     "output_type": "execute_result"
    }
   ],
   "source": [
    "import pandas_gbq\n",
    "import os\n",
    "from google.cloud import bigquery\n",
    "from dotenv import load_dotenv\n",
    "from google.cloud import storage\n",
    "load_dotenv()"
   ]
  },
  {
   "cell_type": "code",
   "execution_count": 2,
   "metadata": {},
   "outputs": [
    {
     "name": "stderr",
     "output_type": "stream",
     "text": [
      "Downloading: 100%|██████████| 100000/100000 [00:38<00:00, 2626.09rows/s]\n"
     ]
    }
   ],
   "source": [
    "sql = \"\"\"\n",
    "SELECT * FROM `bigquery-public-data.chicago_taxi_trips.taxi_trips` LIMIT 100000\n",
    "\"\"\"\n",
    "df = pandas_gbq.read_gbq(sql, project_id=os.environ.get(\"PROJECT_ID\"))"
   ]
  },
  {
   "cell_type": "code",
   "execution_count": 3,
   "metadata": {},
   "outputs": [
    {
     "data": {
      "text/plain": [
       "unique_key                False\n",
       "taxi_id                   False\n",
       "trip_start_timestamp      False\n",
       "trip_end_timestamp         True\n",
       "trip_seconds               True\n",
       "trip_miles                False\n",
       "pickup_census_tract        True\n",
       "dropoff_census_tract       True\n",
       "pickup_community_area     False\n",
       "dropoff_community_area     True\n",
       "fare                       True\n",
       "tips                       True\n",
       "tolls                      True\n",
       "extras                     True\n",
       "trip_total                 True\n",
       "payment_type              False\n",
       "company                    True\n",
       "pickup_latitude           False\n",
       "pickup_longitude          False\n",
       "pickup_location           False\n",
       "dropoff_latitude           True\n",
       "dropoff_longitude          True\n",
       "dropoff_location           True\n",
       "dtype: bool"
      ]
     },
     "execution_count": 3,
     "metadata": {},
     "output_type": "execute_result"
    }
   ],
   "source": [
    "df_generated = df.copy()\n",
    "df_generated.isna().any() # Checking which points are needed to fill in"
   ]
  },
  {
   "cell_type": "code",
   "execution_count": 5,
   "metadata": {},
   "outputs": [],
   "source": [
    "df_sample = df.loc[~df[column].isnull()][column]"
   ]
  },
  {
   "cell_type": "code",
   "execution_count": 6,
   "metadata": {},
   "outputs": [],
   "source": [
    "# Setting to 0 all Nans since Apply does not work with Nans\n",
    "# We use the df instead of df_generated to generate random data points since df_generated has a probability of returning a 0 since the value is available there it can be improved using the .loc & instead\n",
    "column = 'dropoff_latitude'\n",
    "df_generated[column] = df_generated[column].fillna(0)\n",
    "df_generated[column] =df_generated[column].apply(lambda x: df_sample.sample(1).item() if x == 0 else x)\n",
    "column = 'dropoff_longitude'\n",
    "df_generated[column] = df_generated[column].fillna(0)\n",
    "df_generated[column] =df_generated[column].apply(lambda x: df_sample.sample(1).item() if x == 0 else x)"
   ]
  },
  {
   "cell_type": "markdown",
   "metadata": {},
   "source": [
    "Lambda function to generate dropoff location is differen since it requires two columsn and a concat of strings. eg \"POINT (-87.642648998 41.8792550844)\""
   ]
  },
  {
   "cell_type": "code",
   "execution_count": 7,
   "metadata": {},
   "outputs": [],
   "source": [
    "df_generated['dropoff_location'] = df_generated['dropoff_location'].fillna(0)\n",
    "df_generated['dropoff_location'] = df_generated.apply(lambda x: 'POINT ('+str(x['dropoff_longitude'])+' '+str(x['dropoff_latitude'])+ ')' if x['dropoff_location'] ==0 else x['dropoff_location'], axis=1)"
   ]
  },
  {
   "cell_type": "code",
   "execution_count": 8,
   "metadata": {},
   "outputs": [],
   "source": [
    "df_generated['company1'] = df_generated['company'].fillna('CompanyNotAssigned')"
   ]
  },
  {
   "cell_type": "markdown",
   "metadata": {},
   "source": [
    "Dropping off columns, selecting only those columns which are required"
   ]
  },
  {
   "cell_type": "code",
   "execution_count": 9,
   "metadata": {},
   "outputs": [],
   "source": [
    "df_generated = df_generated[['unique_key','taxi_id','company','pickup_latitude','pickup_longitude','dropoff_latitude','dropoff_longitude','dropoff_location']]"
   ]
  },
  {
   "cell_type": "markdown",
   "metadata": {},
   "source": [
    "Creating CSV file to upload"
   ]
  },
  {
   "cell_type": "code",
   "execution_count": 10,
   "metadata": {},
   "outputs": [],
   "source": [
    "df_generated.to_csv('chicago-manual.csv',index=False)"
   ]
  },
  {
   "cell_type": "markdown",
   "metadata": {},
   "source": [
    "Uploading CSV"
   ]
  },
  {
   "cell_type": "code",
   "execution_count": 21,
   "metadata": {},
   "outputs": [
    {
     "name": "stdout",
     "output_type": "stream",
     "text": [
      "File chicago-manual.csv uploaded to manual/chicago-manual.csv.\n"
     ]
    }
   ],
   "source": [
    "bucket_name = \"chicagobucket\"\n",
    "source_file_name = 'chicago-manual.csv'\n",
    "destination_blob_name = 'manual/chicago-manual.csv'\n",
    "\n",
    "storage_client = storage.Client()\n",
    "bucket = storage_client.bucket(bucket_name)\n",
    "blob = bucket.blob(destination_blob_name)\n",
    "blob.upload_from_filename(source_file_name)\n",
    "print(\"File {} uploaded to {}.\".format(source_file_name, destination_blob_name))"
   ]
  },
  {
   "cell_type": "code",
   "execution_count": null,
   "metadata": {},
   "outputs": [],
   "source": []
  }
 ],
 "metadata": {
  "kernelspec": {
   "display_name": "Python 3",
   "language": "python",
   "name": "python3"
  },
  "language_info": {
   "codemirror_mode": {
    "name": "ipython",
    "version": 3
   },
   "file_extension": ".py",
   "mimetype": "text/x-python",
   "name": "python",
   "nbconvert_exporter": "python",
   "pygments_lexer": "ipython3",
   "version": "3.6.12"
  }
 },
 "nbformat": 4,
 "nbformat_minor": 4
}
