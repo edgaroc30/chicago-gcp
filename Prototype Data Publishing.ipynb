{
 "cells": [
  {
   "cell_type": "code",
   "execution_count": 1,
   "metadata": {},
   "outputs": [
    {
     "data": {
      "text/plain": [
       "True"
      ]
     },
     "execution_count": 1,
     "metadata": {},
     "output_type": "execute_result"
    }
   ],
   "source": [
    "from google.cloud import bigquery\n",
    "from google.cloud import pubsub\n",
    "import pandas_gbq\n",
    "import json\n",
    "import os\n",
    "import pandas as pd\n",
    "from dotenv import load_dotenv\n",
    "load_dotenv()"
   ]
  },
  {
   "cell_type": "code",
   "execution_count": 2,
   "metadata": {},
   "outputs": [],
   "source": [
    "publish_client = pubsub.PublisherClient()"
   ]
  },
  {
   "cell_type": "code",
   "execution_count": 3,
   "metadata": {},
   "outputs": [
    {
     "name": "stderr",
     "output_type": "stream",
     "text": [
      "Downloading: 100%|██████████| 100000/100000 [00:34<00:00, 2908.99rows/s]\n"
     ]
    }
   ],
   "source": [
    "topic = 'projects/crack-descent-299314/topics/chicago-topic'\n",
    "sql = \"\"\"\n",
    "SELECT * FROM `bigquery-public-data.chicago_taxi_trips.taxi_trips` LIMIT 100000\n",
    "\"\"\"\n",
    "df = pandas_gbq.read_gbq(sql, project_id=os.environ.get(\"PROJECT_ID\"))\n",
    "df['trip_start_timestamp'] = pd.to_datetime(df['trip_start_timestamp'])\n",
    "df['trip_end_timestamp'] = pd.to_datetime(df['trip_end_timestamp'])"
   ]
  },
  {
   "cell_type": "code",
   "execution_count": 4,
   "metadata": {},
   "outputs": [],
   "source": [
    "load = df.to_json(orient='records')\n",
    "load = json.loads(load)"
   ]
  },
  {
   "cell_type": "code",
   "execution_count": 23,
   "metadata": {},
   "outputs": [
    {
     "name": "stdout",
     "output_type": "stream",
     "text": [
      "done\n"
     ]
    }
   ],
   "source": [
    "for x in load:\n",
    "    x['trip_start_timestamp'] = int(x['trip_start_timestamp']/10000)\n",
    "    x['trip_end_timestamp'] = int(0 if x['trip_end_timestamp'] is None else x['trip_end_timestamp']/1000)\n",
    "    feature = publish_client.publish(topic,json.dumps(x).encode('utf-8'))\n",
    "    #print(json.dumps(x).encode('utf-8'))\n",
    "    #print(feature.result())\n",
    "print('done')"
   ]
  }
 ],
 "metadata": {
  "kernelspec": {
   "display_name": "Python 3",
   "language": "python",
   "name": "python3"
  },
  "language_info": {
   "codemirror_mode": {
    "name": "ipython",
    "version": 3
   },
   "file_extension": ".py",
   "mimetype": "text/x-python",
   "name": "python",
   "nbconvert_exporter": "python",
   "pygments_lexer": "ipython3",
   "version": "3.6.12"
  }
 },
 "nbformat": 4,
 "nbformat_minor": 4
}
